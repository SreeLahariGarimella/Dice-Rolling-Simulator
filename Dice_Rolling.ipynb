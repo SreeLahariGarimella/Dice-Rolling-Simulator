{
 "cells": [
  {
   "cell_type": "markdown",
   "id": "de3f1061",
   "metadata": {},
   "source": [
    "## Dice Rolling Simulator\n"
   ]
  },
  {
   "cell_type": "code",
   "execution_count": 1,
   "id": "a4740c47",
   "metadata": {},
   "outputs": [],
   "source": [
    "import random\n",
    "import tkinter\n",
    "\n",
    "root = tkinter.Tk()\n",
    "root.geometry('600x600')\n",
    "root.title('ProjectGurukul Roll Dice')\n",
    "\n",
    "#label to print result\n",
    "label = tkinter.Label(root, text='', font=('Helvetica', 260))\n",
    "\n",
    "#label to introduce\n",
    "label2 = tkinter.Label(root, text='Welcome to ProjectGurukul Dice roll. Click to roll dice ', font=('Helvetica',10))\n",
    "label2.place(x=150,y=400)\n",
    "\n",
    "def roll_dice():\n",
    "    value = ['\\u2680', '\\u2681', '\\u2682', '\\u2683', '\\u2684', '\\u2685']\n",
    "    result=random.choice(value)\n",
    "    label.configure(text=result)\n",
    "    label.pack()\n",
    "    if(result=='\\u2680'):\n",
    "        label3=tkinter.Label(root,text='You rolled a one! Click roll dice to roll again.',font=('Helvetica',10))\n",
    "        label3.place(x=150,y=450)\n",
    "    elif(result=='\\u2681'):\n",
    "        label3=tkinter.Label(root,text='You rolled a two! Click roll dice to roll again.',font=('Helvetica',10))\n",
    "        label3.place(x=150,y=450)\n",
    "    elif(result=='\\u2682'):\n",
    "        label3=tkinter.Label(root,text='You rolled a three! Click roll dice to roll again.',font=('Helvetica',10))\n",
    "        label3.place(x=150,y=450)\n",
    "    elif(result=='\\u2683'):\n",
    "        label3=tkinter.Label(root,text='You rolled a four! Click roll dice to roll again.',font=('Helvetica',10))\n",
    "        label3.place(x=150,y=450)\n",
    "    elif(result=='\\u2684'):\n",
    "        label3=tkinter.Label(root,text='You rolled a five! Click roll dice to roll again.',font=('Helvetica',10))\n",
    "        label3.place(x=150,y=450)\n",
    "    elif(result=='\\u2685'):\n",
    "        label3=tkinter.Label(root,text='You rolled a six! Click roll dice to roll again.',font=('Helvetica',10))\n",
    "        label3.place(x=150,y=450)\n",
    "\n",
    "button = tkinter.Button(root, text='roll dice', foreground='red', command=roll_dice)\n",
    "button.pack()\n",
    "root.mainloop()\n"
   ]
  }
 ],
 "metadata": {
  "kernelspec": {
   "display_name": "Python 3",
   "language": "python",
   "name": "python3"
  },
  "language_info": {
   "codemirror_mode": {
    "name": "ipython",
    "version": 3
   },
   "file_extension": ".py",
   "mimetype": "text/x-python",
   "name": "python",
   "nbconvert_exporter": "python",
   "pygments_lexer": "ipython3",
   "version": "3.8.8"
  }
 },
 "nbformat": 4,
 "nbformat_minor": 5
}
